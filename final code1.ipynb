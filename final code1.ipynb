{
 "cells": [
  {
   "cell_type": "code",
   "execution_count": 342,
   "metadata": {
    "collapsed": false
   },
   "outputs": [
    {
     "name": "stdout",
     "output_type": "stream",
     "text": [
      "The number of times juntion 48.0 failed is  0 times\n",
      "The number of times juntion 15.0 failed is  0 times\n",
      "The number of times juntion 19.0 failed is  0 times\n",
      " The floodings at juntion 48.0 is [] CFS\n",
      "\n",
      " The floodings at juntion 15.0 is [] CFS\n",
      "\n",
      " The floodings at juntion 19.0 is [] CFS\n",
      "\n",
      "The score due to flooding is  0 \n",
      "\n",
      "PIPE DISPLAY\n",
      "Pipes used in the current project 2 \n",
      "\n",
      "pipe 1.0 with length of 369.44 with diameter of 1.0 \n",
      "\n",
      "pipe 2.0 with length of 804.17 with diameter of 1.0 \n",
      "\n",
      "The score due to pipes is 154141850.568\n"
     ]
    }
   ],
   "source": [
    "flood_max = 5 #The maximum flow rate in CFS\n",
    "flood_w =   10 #wietage to the flooding 0< flood <5\n",
    "flood_mw = 10 #The wietage of the flood >5\n",
    "\n",
    "import xlrd\n",
    "file_location = \"C:\\Users\\Kowshik\\Desktop\\pipeandflows.xlsx\"\n",
    "workbook = xlrd.open_workbook(file_location)\n",
    "sheet = workbook.sheet_by_index(0)\n",
    "nodes = []\n",
    "flood = []\n",
    "for i in range(sheet.nrows-2):\n",
    "    for j in range(sheet.ncols-2):\n",
    "        if sheet.cell_value(2+i,2+j) > 0:\n",
    "            nodes.append(sheet.cell_value(1,2+j))\n",
    "            flood.append(sheet.cell_value(2+i,2+j))\n",
    "\n",
    "\n",
    "flows = []                 \n",
    "juntions = []\n",
    "for i in range(sheet.ncols-2):\n",
    "    for j in range(sheet.nrows-2):\n",
    "        if sheet.cell_value(j+2,i+2) > 0:\n",
    "            juntions.append(sheet.cell_value(1,i+2))\n",
    "            flows.append(sheet.cell_value(j+2,i+2))\n",
    "            \n",
    "            \n",
    "#CFS at each juntion can be found \n",
    "\n",
    "juntionsfalls = {} \n",
    "for i in range(sheet.ncols-2):\n",
    "    juntionsfalls[sheet.cell_value(1,2+i)] =  []\n",
    "    for j in range(sheet.nrows-2):\n",
    "        if sheet.cell_value(2+j,2+i) > 0:\n",
    "            juntionsfalls[sheet.cell_value(1,2+i)].append(sheet.cell_value(2+j,2+i))\n",
    "            \n",
    "#display the The number of times juntion failed\n",
    "for i in range(sheet.ncols-2):\n",
    "    print \"The number of times juntion\",sheet.cell_value(1,i+2),\"failed is \",juntions.count(sheet.cell_value(1,i+2)),\"times\"\n",
    "\n",
    "#display the floodings occured at each juntion\n",
    "for i in range(sheet.ncols-2):\n",
    "    print \" The floodings at juntion\",sheet.cell_value(1,i+2),\"is\",juntionsfalls[sheet.cell_value(1,i+2)],\"CFS\\n\"\n",
    "\n",
    "#Display the Score due to floodings\n",
    "score_flow = [i*flood_w if i<=5 else i*flood_mw for i in flows]\n",
    "print \"The score due to flooding is \",sum(score_flow),\"\\n\"\n",
    "\n",
    "#PIPE SCORING \n",
    "print \"PIPE DISPLAY\"\n",
    "file_location = \"C:\\Users\\Kowshik\\Desktop\\pipes.xlsx\"\n",
    "workbook = xlrd.open_workbook(file_location)\n",
    "pipedim = workbook.sheet_by_index(0)\n",
    "pipe = {}\n",
    "for i in range(pipedim.nrows-1):\n",
    "    for j in range(pipedim.ncols-2):\n",
    "        pipe[pipedim.cell_value(1+i,j)] = [pipedim.cell_value(1+i,1+j),pipedim.cell_value(1+i,2+j)]\n",
    "print \"Pipes used in the current project\",pipedim.nrows-1,\"\\n\"\n",
    "\n",
    "#Printing the pipes with dimensions\n",
    "for i in range(pipedim.nrows-1):\n",
    "    print \"pipe\",pipedim.cell_value(1+i,j),\"with length of\",pipe[pipedim.cell_value(1+i,j)][0],\"with diameter of\",pipe[pipedim.cell_value(1+i,j)][1],\"\\n\"\n",
    "\n",
    "import numpy as np\n",
    "from sklearn.linear_model import LinearRegression\n",
    "clf = LinearRegression()\n",
    "x = [[(225*0.0032)**2,200*0.0032],[(300*0.0032)**2,250*0.0032],[(375*0.0032)**2,250*0.0032],[(450*0.0032)**2,250*0.0032],[(525*0.0032)**2,250*0.0032]]\n",
    "y = [202,318,375,519,682]\n",
    "clf.fit(x,y)\n",
    "clf.coef_\n",
    "score_pipe = 0\n",
    "#Display the scores of pipe\n",
    "for i in range(pipedim.nrows-1):\n",
    "    score_pipe = score_pipe + clf.coef_[0]*(pipe[pipedim.cell_value(1+i,j)][0])**2 + clf.coef_[1]*pipe[pipedim.cell_value(1+i,j)][1]\n",
    "print \"The score due to pipes is\",score_pipe,"
   ]
  },
  {
   "cell_type": "code",
   "execution_count": 324,
   "metadata": {
    "collapsed": false
   },
   "outputs": [
    {
     "name": "stdout",
     "output_type": "stream",
     "text": [
      "Pipes used in the current project 2 \n",
      "\n",
      "pipe 1.0 with length of 369.44 with diameter of 1.0 \n",
      "\n",
      "pipe 2.0 with length of 804.17 with diameter of 1.0 \n",
      "\n"
     ]
    }
   ],
   "source": []
  },
  {
   "cell_type": "code",
   "execution_count": 336,
   "metadata": {
    "collapsed": false
   },
   "outputs": [],
   "source": []
  },
  {
   "cell_type": "code",
   "execution_count": 338,
   "metadata": {
    "collapsed": false
   },
   "outputs": [
    {
     "data": {
      "text/plain": [
       "154141850.56844094"
      ]
     },
     "execution_count": 338,
     "metadata": {},
     "output_type": "execute_result"
    }
   ],
   "source": [
    "score_pipe"
   ]
  },
  {
   "cell_type": "code",
   "execution_count": null,
   "metadata": {
    "collapsed": true
   },
   "outputs": [],
   "source": []
  },
  {
   "cell_type": "code",
   "execution_count": 334,
   "metadata": {
    "collapsed": false
   },
   "outputs": [
    {
     "data": {
      "text/plain": [
       "array([ 196.8162744 ,  102.66317734])"
      ]
     },
     "execution_count": 334,
     "metadata": {},
     "output_type": "execute_result"
    }
   ],
   "source": [
    "import numpy as np\n",
    "from sklearn.linear_model import LinearRegression\n",
    "clf = LinearRegression()\n",
    "x = [[(225*0.0032)**2,200*0.0032],[(300*0.0032)**2,250*0.0032],[(375*0.0032)**2,250*0.0032],[(450*0.0032)**2,250*0.0032],[(525*0.0032)**2,250*0.0032]]\n",
    "y = [202,318,375,519,682]\n",
    "clf.fit(x,y)\n",
    "clf.coef_"
   ]
  },
  {
   "cell_type": "code",
   "execution_count": null,
   "metadata": {
    "collapsed": true
   },
   "outputs": [],
   "source": []
  }
 ],
 "metadata": {
  "kernelspec": {
   "display_name": "Python 2",
   "language": "python",
   "name": "python2"
  },
  "language_info": {
   "codemirror_mode": {
    "name": "ipython",
    "version": 2
   },
   "file_extension": ".py",
   "mimetype": "text/x-python",
   "name": "python",
   "nbconvert_exporter": "python",
   "pygments_lexer": "ipython2",
   "version": "2.7.10"
  }
 },
 "nbformat": 4,
 "nbformat_minor": 0
}
